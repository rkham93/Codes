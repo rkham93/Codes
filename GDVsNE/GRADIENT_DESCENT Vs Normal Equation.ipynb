{
 "cells": [
  {
   "cell_type": "code",
   "execution_count": null,
   "metadata": {},
   "outputs": [],
   "source": [
    "import numpy as np\n",
    "import matplotlib.pyplot as plt\n",
    "import time"
   ]
  },
  {
   "cell_type": "code",
   "execution_count": null,
   "metadata": {},
   "outputs": [],
   "source": [
    "Start=time.time()\n",
    "GD_Time=[]\n",
    "NE_Time=[]\n",
    "\n",
    "Min=1000\n",
    "Max=10002000 # Ten million and two thousand elements\n",
    "step=200000 #Two Hundred thousand thousand per step"
   ]
  },
  {
   "cell_type": "code",
   "execution_count": null,
   "metadata": {},
   "outputs": [],
   "source": [
    "for samples in range(Min,Max,step):\n",
    "    features=int(np.floor(np.log(samples)))\n",
    "    rng = np.random.RandomState(0)\n",
    "    Y = rng.randn(samples)\n",
    "    X= rng.randn(samples,features)\n",
    "        \n",
    "    #Gradient Descnt\n",
    "    start_gd=time.time()\n",
    "    X=np.append(np.asarray([1]*X.shape[0]).reshape(-1,1),X,axis=1)\n",
    "    Theta=np.asarray([1]*X.shape[1]).reshape(-1,1)\n",
    "    alpha=0.01\n",
    "    precision=0.00001\n",
    "    m=X.shape[0]\n",
    "    Temp=np.asarray([0]*Theta.shape[0]).reshape(-1,1)\n",
    "    H=np.add(np.dot(Theta.transpose(),X.transpose()),-1*Y.reshape(-1,1).transpose())\n",
    "    for k in range(5000):\n",
    "        Theta=Temp\n",
    "        H=np.add(np.dot(Theta.transpose(),X.transpose()),-1*Y.transpose())\n",
    "        Temp=np.add(Theta, (-1*(alpha*(1/m)*np.dot(H,X))).transpose())\n",
    "        if np.all(Theta-Temp <precision):\n",
    "            break\n",
    "\n",
    "    end_gd=time.time()\n",
    "    GD_Time.append(end_gd-start_gd)\n",
    "    \n",
    "    \n",
    "    #Normal Equation\n",
    "    start_ne=time.time()\n",
    "    NE=np.dot(np.linalg.pinv(X),Y)\n",
    "    end_ne=time.time()\n",
    "    NE_Time.append(end_ne-start_ne)\n",
    "    print(samples)"
   ]
  },
  {
   "cell_type": "code",
   "execution_count": null,
   "metadata": {},
   "outputs": [],
   "source": [
    "fig=plt.figure(figsize=(15, 15))\n",
    "plt.scatter(range(Min,Max,step),GD_Time)\n",
    "plt.scatter(range(Min,Max,step),NE_Time)\n",
    "plt.title('Time to compute\\nGradient Descent Vs Normal Equation',fontsize=20)\n",
    "plt.xlabel('Number of elements',fontsize=20)\n",
    "plt.ylabel(\"Time taken to execute\",fontsize=20)\n",
    "plt.legend(['Gradient descent','Normal Equation'],fontsize=15)\n",
    "plt.savefig('Time to compute--Gradient Descent Vs Normal Equation--jupyter.png')"
   ]
  },
  {
   "cell_type": "code",
   "execution_count": null,
   "metadata": {},
   "outputs": [],
   "source": [
    "fig=plt.figure(figsize=(15, 15))\n",
    "Feature=[]\n",
    "for samples in range(Min,Max,step):\n",
    "    features=int(np.floor(np.log(samples)))\n",
    "    Feature.append(features)\n",
    "plt.scatter(range(Min,Max,step),Feature)\n",
    "plt.title('Samples Vs Features',fontsize=30)\n",
    "plt.xlabel('No of samples',fontsize=20)\n",
    "plt.ylabel('No of features',fontsize=20)\n",
    "plt.savefig('Samples Vs Features--jupyter.png')"
   ]
  },
  {
   "cell_type": "code",
   "execution_count": null,
   "metadata": {},
   "outputs": [],
   "source": [
    "End=time.time()\n",
    "print(\"The total time to run the program was {} seconds\".format(End-Start))"
   ]
  }
 ],
 "metadata": {
  "kernelspec": {
   "display_name": "Python 3",
   "language": "python",
   "name": "python3"
  },
  "language_info": {
   "codemirror_mode": {
    "name": "ipython",
    "version": 3
   },
   "file_extension": ".py",
   "mimetype": "text/x-python",
   "name": "python",
   "nbconvert_exporter": "python",
   "pygments_lexer": "ipython3",
   "version": "3.6.4"
  }
 },
 "nbformat": 4,
 "nbformat_minor": 2
}
